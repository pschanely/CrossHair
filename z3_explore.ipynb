{
 "cells": [
  {
   "cell_type": "code",
   "execution_count": 1,
   "id": "exempt-shopping",
   "metadata": {},
   "outputs": [],
   "source": [
    "import z3"
   ]
  },
  {
   "cell_type": "code",
   "execution_count": 29,
   "id": "signed-missile",
   "metadata": {},
   "outputs": [
    {
     "data": {
      "text/plain": [
       "(s, t)"
      ]
     },
     "execution_count": 29,
     "metadata": {},
     "output_type": "execute_result"
    }
   ],
   "source": [
    "s = z3.String('s')\n",
    "t = z3.String('t')\n",
    "s, t"
   ]
  },
  {
   "cell_type": "code",
   "execution_count": 39,
   "id": "figured-dallas",
   "metadata": {},
   "outputs": [
    {
     "data": {
      "text/plain": [
       "(sat, [s = \"fo\u0000\u0000\u0000\u0000\"])"
      ]
     },
     "execution_count": 39,
     "metadata": {},
     "output_type": "execute_result"
    }
   ],
   "source": [
    "solver = z3.Solver()\n",
    "solver.add(z3.PrefixOf('fo', s), z3.Length(s) > 5)\n",
    "solver.check(), solver.model()"
   ]
  },
  {
   "cell_type": "code",
   "execution_count": 41,
   "id": "banned-change",
   "metadata": {},
   "outputs": [
    {
     "name": "stdout",
     "output_type": "stream",
     "text": [
      "[i = -1]\n"
     ]
    }
   ],
   "source": [
    "i = z3.Int('i')\n",
    "z3.solve(i == z3.LastIndexOf('o', 'foobar'))"
   ]
  },
  {
   "cell_type": "markdown",
   "id": "owned-jacksonville",
   "metadata": {},
   "source": [
    "Now to write rfind. This is the position of a substring where the rest of the string does not match any more."
   ]
  },
  {
   "cell_type": "code",
   "execution_count": 93,
   "id": "equipped-graduation",
   "metadata": {},
   "outputs": [
    {
     "data": {
      "text/plain": [
       "(sat, [result = 8])"
      ]
     },
     "execution_count": 93,
     "metadata": {},
     "output_type": "execute_result"
    }
   ],
   "source": [
    "s = 'this is foobared up!'\n",
    "sub = 'foobar'\n",
    "start = 1\n",
    "end = 15\n",
    "\n",
    "solver = z3.Solver()\n",
    "index_remaining = z3.Int('result') + len(sub)\n",
    "first_index = index_remaining - len(sub)\n",
    "last_match = z3.SubString(s, index_remaining-len(sub), len(sub))\n",
    "remaining = z3.SubString(s, index_remaining, len(s) - index_remaining)\n",
    "solver.add(z3.And(z3.Contains(last_match, sub), z3.Not(z3.Contains(remaining, sub))))\n",
    "solver.check(), solver.model()"
   ]
  },
  {
   "cell_type": "code",
   "execution_count": 118,
   "id": "compatible-quest",
   "metadata": {},
   "outputs": [],
   "source": [
    "class Foo:\n",
    "    def __init__(self):\n",
    "        self.statespace = z3.Solver()\n",
    "        self.value = 'this is foobared up!'\n",
    "        \n",
    "    def rfind(self, sub, start=None, end=None):\n",
    "        start = 0 if start is None else start\n",
    "        end = z3.Length(self.value) if end is None else end\n",
    "        space = self.statespace\n",
    "        value = self.value\n",
    "        result = z3.Int('result')\n",
    "        \n",
    "        index_remaining = result + len(sub)\n",
    "        last_match = z3.SubString(s, result, len(sub))\n",
    "        remaining = z3.SubString(s, index_remaining, len(s) - index_remaining)\n",
    "        found_match = z3.And(z3.Contains(last_match, sub), z3.Not(z3.Contains(remaining, sub)))\n",
    "        no_match = z3.And(z3.Not(z3.Contains(value, sub)), result == -1)\n",
    "        space.add(z3.Or(found_match, no_match))\n",
    "        return result\n"
   ]
  },
  {
   "cell_type": "code",
   "execution_count": 119,
   "id": "million-zambia",
   "metadata": {},
   "outputs": [
    {
     "data": {
      "text/plain": [
       "(sat, [])"
      ]
     },
     "execution_count": 119,
     "metadata": {},
     "output_type": "execute_result"
    }
   ],
   "source": [
    "f = Foo()\n",
    "f.statespace.check(), f.statespace.model()"
   ]
  },
  {
   "cell_type": "code",
   "execution_count": 120,
   "id": "lyric-combine",
   "metadata": {},
   "outputs": [
    {
     "data": {
      "text/plain": [
       "(sat, [result = -1])"
      ]
     },
     "execution_count": 120,
     "metadata": {},
     "output_type": "execute_result"
    }
   ],
   "source": [
    "f = Foo()\n",
    "f.rfind('moobar')\n",
    "f.statespace.check(), f.statespace.model()"
   ]
  },
  {
   "cell_type": "code",
   "execution_count": 121,
   "id": "integral-tanzania",
   "metadata": {},
   "outputs": [
    {
     "data": {
      "text/plain": [
       "(sat, [result = 8])"
      ]
     },
     "execution_count": 121,
     "metadata": {},
     "output_type": "execute_result"
    }
   ],
   "source": [
    "f = Foo()\n",
    "f.rfind('foobar')\n",
    "f.statespace.check(), f.statespace.model()"
   ]
  },
  {
   "cell_type": "code",
   "execution_count": null,
   "id": "saving-pottery",
   "metadata": {},
   "outputs": [],
   "source": []
  }
 ],
 "metadata": {
  "kernelspec": {
   "display_name": "Python 3",
   "language": "python",
   "name": "python3"
  },
  "language_info": {
   "codemirror_mode": {
    "name": "ipython",
    "version": 3
   },
   "file_extension": ".py",
   "mimetype": "text/x-python",
   "name": "python",
   "nbconvert_exporter": "python",
   "pygments_lexer": "ipython3",
   "version": "3.9.1"
  }
 },
 "nbformat": 4,
 "nbformat_minor": 5
}
